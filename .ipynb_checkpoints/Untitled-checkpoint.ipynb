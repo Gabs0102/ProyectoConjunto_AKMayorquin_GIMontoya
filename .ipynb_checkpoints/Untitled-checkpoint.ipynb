{
 "cells": [
  {
   "cell_type": "markdown",
   "metadata": {},
   "source": [
    "# EXPECTATIVAS DEL CURSO\n",
    "\n",
    "### Simulación de procesos financieros"
   ]
  },
  {
   "cell_type": "markdown",
   "metadata": {},
   "source": [
    "$$\\text{ Anehi Karely Mayorquin Higuera: }$$\n",
    "    \n",
    "$$\\text{  Mis expectativas de simulación financiera es poder llegar a desarrollar tanto la parte de programación que hemos llegado a ver a lo largo de la carrera sin dejar de lado aplicar esta parte financiera y así ver la fusión de ambas partes. Aprender nuevas herramientas para automatizar la forma de trabajar. }$$"
   ]
  },
  {
   "cell_type": "markdown",
   "metadata": {},
   "source": [
    "| *i*| *x*|  *f(x)* |\n",
    "|:--|:----:|:------:|\n",
    "| 0 |  -1 | 0.3678  |\n",
    "| <font color='red'> 1</font> | <font color='red'> -0.5</font>| <font color='red'> 0.7788</font>|\n",
    "| <font color='blue'>2</font> |   <font color='blue'>0</font> |    <font color='blue'>1</font>|\n",
    "| <font color='red'> 3</font> |  <font color='red'> 0.5</font>|<font color='red'> 0.7788</font> |\n",
    "| 4 |   1 |    0.3678|\n",
    "\n",
    "\n",
    "$$ \\text { Cuadro 1: Tabla de valores f(x) }$$\n",
    "\n",
    "                     "
   ]
  },
  {
   "cell_type": "markdown",
   "metadata": {},
   "source": [
    "$$\n",
    "\\int_{-1}^{1}  \\! e^{-x^2} \\, dx \\approx \\frac{0,3}{3} [f(-1)+f(1)+4(\\color{red}{[f(-0,5)+f(0,5)}+2\\color{blue}{f(0)}]\n",
    " $$"
   ]
  },
  {
   "cell_type": "markdown",
   "metadata": {},
   "source": [
    "$$ \\approx \\frac{0,5}{3} [0,3678+0,3678+4(\\color{red}{0,7788+0.7788}+2*\\color{blue}{1}] \\approx 1.4943 $$"
   ]
  },
  {
   "cell_type": "markdown",
   "metadata": {},
   "source": [
    "A modo de verificación, se calculará por software, el valor del área para *n* = 100, un valor mucho más elevado al que se utilizó anteriormente. Si lo calculado previamente es correcto, se esperaría que sea próximo al valor presentado para ser una buena aproximación"
   ]
  },
  {
   "cell_type": "markdown",
   "metadata": {},
   "source": [
    "$$\n",
    "\\int_{-1}^{1}  \\! e^{-x^2} \\, dx \\approx 1,4936\n",
    " $$\n",
    " \n",
    " $$\\text{Figura 1}$$"
   ]
  },
  {
   "cell_type": "markdown",
   "metadata": {},
   "source": [
    "| i | 1   | 2   | 3   | 4   | 5 | 6 | 7  |\n",
    "|---|-----|-----|-----|-----|---|---|----|\n",
    "|  $$E_{i}(V)\\$$ | 12  | 10  | 24  | 12  | - | - | -  |\n",
    "| *ri* $\\Omega$ | 0.1 | 0.5 | 0.2 | 0.5 | - | - | -  |\n",
    "| *Ri* $\\Omega$ | 25  | 40  | 16  | 20  | 9 | 4 | 20 |"
   ]
  },
  {
   "cell_type": "code",
   "execution_count": null,
   "metadata": {},
   "outputs": [],
   "source": [
    "\n",
    "                        "
   ]
  },
  {
   "cell_type": "code",
   "execution_count": null,
   "metadata": {},
   "outputs": [],
   "source": []
  },
  {
   "cell_type": "code",
   "execution_count": null,
   "metadata": {},
   "outputs": [],
   "source": []
  },
  {
   "cell_type": "markdown",
   "metadata": {},
   "source": [
    "gaby"
   ]
  },
  {
   "cell_type": "code",
   "execution_count": null,
   "metadata": {},
   "outputs": [],
   "source": []
  }
 ],
 "metadata": {
  "kernelspec": {
   "display_name": "Python 3",
   "language": "python",
   "name": "python3"
  },
  "language_info": {
   "codemirror_mode": {
    "name": "ipython",
    "version": 3
   },
   "file_extension": ".py",
   "mimetype": "text/x-python",
   "name": "python",
   "nbconvert_exporter": "python",
   "pygments_lexer": "ipython3",
   "version": "3.7.3"
  }
 },
 "nbformat": 4,
 "nbformat_minor": 4
}
