{
 "cells": [
  {
   "cell_type": "markdown",
   "metadata": {},
   "source": [
    "# EXPECTATIVAS DEL CURSO\n",
    "\n",
    "### Simulación de procesos financieros"
   ]
  },
  {
   "cell_type": "markdown",
   "metadata": {},
   "source": [
    "$$\\text{ Anehi Karely Mayorquin Higuera: }$$\n",
    "    \n",
    "$$\\text{  Mis expectativas de simulación financiera es poder llegar a desarrollar tanto la parte de programación que hemos llegado a ver a lo largo de la carrera sin dejar de lado aplicar esta parte financiera y así ver la fusión de ambas partes. Aprender nuevas herramientas para automatizar la forma de trabajar. }$$"
   ]
  },
  {
   "cell_type": "markdown",
   "metadata": {},
   "source": [
    "| *i*| *x*|  *f(x)* |\n",
    "|:--|:----:|:------:|\n",
    "| 0 |  -1 | 0.3678  |\n",
    "| <font color='red'> 1</font> | <font color='red'> -0.5</font>| <font color='red'> 0.7788</font>|\n",
    "| <font color='blue'>2</font> |   <font color='blue'>0</font> |    <font color='blue'>1</font>|\n",
    "| <font color='red'> 3</font> |  <font color='red'> 0.5</font>|<font color='red'> 0.7788</font> |\n",
    "| 4 |   1 |    0.3678|\n",
    "\n",
    "\n",
    "$$ \\text { Cuadro 1: Tabla de valores f(x) }$$\n",
    "\n",
    "                     "
   ]
  },
  {
   "cell_type": "markdown",
   "metadata": {},
   "source": [
    "$$\n",
    "\\int_{-1}^{1}  \\! e^{-x^2} \\, dx \\approx \\frac{0,3}{3} [f(-1)+f(1)+4(\\color{red}{[f(-0,5)+f(0,5)}+2\\color{blue}{f(0)}]\n",
    " $$"
   ]
  },
  {
   "cell_type": "markdown",
   "metadata": {},
   "source": [
    "$$ \\approx \\frac{0,5}{3} [0,3678+0,3678+4(\\color{red}{0,7788+0.7788}+2*\\color{blue}{1}] \\approx 1.4943 $$"
   ]
  },
  {
   "cell_type": "markdown",
   "metadata": {},
   "source": [
    "A modo de verificación, se calculará por software, el valor del área para *n* = 100, un valor mucho más elevado al que se utilizó anteriormente. Si lo calculado previamente es correcto, se esperaría que sea próximo al valor presentado para ser una buena aproximación"
   ]
  },
  {
   "cell_type": "markdown",
   "metadata": {},
   "source": [
    "$$\n",
    "\\int_{-1}^{1}  \\! e^{-x^2} \\, dx \\approx 1,4936\n",
    " $$\n",
    " \n",
    " $$\\text{Figura 1}$$"
   ]
  },
  {
   "cell_type": "markdown",
   "metadata": {},
   "source": [
    "$$\\text{ Gabriela Ivonne Montoya Ortiz: }$$\n",
    "    \n",
    "Mis expectativas respecto a la materia de simulación financiera es poder sumar conocimiento a mis cursos anteriores con el fin de tener mejores herramientas en el campo laboral."
   ]
  },
  {
   "cell_type": "markdown",
   "metadata": {},
   "source": [
    "|$i$|1|2|3|4|5|6|7|\n",
    "|-|-|-|-|-|-|-|-|\n",
    "|$$E_i(V)$$|12|10|24|12|-|-|-|\n",
    "|$$r_i(\\Omega)$$|0.1|0.5|0.2|0.5|-|-|-|\n",
    "|$$R_i(\\Omega)$$|25|40|16|20|9|4|20|\n",
    "\n",
    "\n",
    "<font color= lightblue > Kemma y Vorst (1990) </font> muestran que las opciones asiáticas con media geométrica continua se pueden valuar con el mismo enfoque de las opciones plain vanilla; solo deben cambiar los parámetros de volatilidad $\\sigma$ por $\\sigma_a$, y el costo de acarreo $b$ por $b_A$. \n"
   ]
  },
  {
   "cell_type": "markdown",
   "metadata": {},
   "source": [
    "De acuerdo con Kemma y Vorst, las fórmulas para valuar una opción de compra y una opción de venta son:\n",
    "\n",
    "\n",
    "$$c\\approx S_t e^{(b_A-r)(T-t)}\\Phi(d_1)-Ke^{-r(T-t)}\\Phi(d_2),$$\n",
    "\n",
    "\n",
    "$$p\\approx Ke^{-r(T-t)}\\Phi(-d_2)-,S_t e^{(b_A-r)(T-t)}\\Phi(-d_1)$$"
   ]
  },
  {
   "cell_type": "markdown",
   "metadata": {},
   "source": [
    "\n",
    "con $d_1$ y $d_2$ dados por:\n",
    "$$d_1=\\frac{ln(S_t/K)+(b_A+1/2\\sigma_a^2)(T-t)}{\\sigma\\sqrt{T-t}}$$\n",
    "$$d_2=d_1-\\sigma_a\\sqrt{T-t}$$\n"
   ]
  },
  {
   "cell_type": "markdown",
   "metadata": {},
   "source": [
    "La función $\\Phi(d)$ es la función de distribución acumulada $E\\sim N(0,1)$. La volatilidad ajustada es igual a:\n",
    "$$\\sigma_a=\\frac{\\sigma}{\\sqrt{3}},$$\n",
    "mientras que el costo de acarreo ajustado es:\n",
    "$$b_A=\\frac{1}{2}\\left(v-\\frac{\\sigma^2}{6}\\right).$$"
   ]
  }
 ],
 "metadata": {
  "kernelspec": {
   "display_name": "Python 3",
   "language": "python",
   "name": "python3"
  },
  "language_info": {
   "codemirror_mode": {
    "name": "ipython",
    "version": 3
   },
   "file_extension": ".py",
   "mimetype": "text/x-python",
   "name": "python",
   "nbconvert_exporter": "python",
   "pygments_lexer": "ipython3",
   "version": "3.7.6"
  }
 },
 "nbformat": 4,
 "nbformat_minor": 4
}
